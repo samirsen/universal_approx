{
 "cells": [
  {
   "cell_type": "code",
   "execution_count": 1,
   "metadata": {},
   "outputs": [],
   "source": [
    "import numpy as np\n",
    "import matplotlib.pyplot as plt"
   ]
  },
  {
   "cell_type": "code",
   "execution_count": 13,
   "metadata": {},
   "outputs": [
    {
     "data": {
      "image/png": "[encoded data removed]",
      "text/plain": [
       "<Figure size 432x288 with 1 Axes>"
      ]
     },
     "metadata": {
      "needs_background": "light"
     },
     "output_type": "display_data"
    }
   ],
   "source": [
    "# Generate Data\n",
    "def cubic(x):\n",
    "    return x**3 + x**2 - x - 1\n",
    "\n",
    "def get_cubic_data(start,end,step_size):\n",
    "    X = np.arange(start, end, step_size)\n",
    "    X.shape = (len(X),1)\n",
    "    y = np.array([cubic(X[i]) for i in range(len(X))])\n",
    "    y.shape = (len(y),1)\n",
    "    return X,y\n",
    "\n",
    "def relu(x):\n",
    "    if x <= 0: return 0\n",
    "    else: return x\n",
    "\n",
    "\n",
    "def relu_approximation(start, end, step_size, relus):\n",
    "    X = np.arange(start, end, step_size)\n",
    "    X.shape = (len(X),1)\n",
    "    y_first = -1. * np.array([relu(funcs[0](x)) + relu(funcs[1](x)) + relu(funcs[2](x)) for x in X])\n",
    "    y_second = np.array([relu(funcs[3](x)) + relu(funcs[4](x)) + relu(funcs[5](x)) for x in X])\n",
    "    y = y_first + y_second\n",
    "    y.shape = (len(y), 1)\n",
    "    return y\n",
    "    \n",
    "funcs = [\n",
    "    lambda x: -5 * x - 7.7,\n",
    "    lambda x: -1.2 * x - 1.3,\n",
    "    lambda x: 1.2 * x + 1,\n",
    "    lambda x: 1.2 * x - 0.2,\n",
    "    lambda x: 2*x - 1.1,\n",
    "    lambda x: 5*x - 5\n",
    "]\n",
    "\n",
    "# Target function\n",
    "X,y = get_cubic_data(-2,2,.1)\n",
    "\n",
    "\n",
    "# Predict\n",
    "predictions = relu_approximation(-2,2,.1, funcs)\n",
    "\n",
    "# Visualize\n",
    "plt.plot(predictions)\n",
    "plt.plot(y)\n",
    "plt.show()"
   ]
  },
  {
   "cell_type": "code",
   "execution_count": 15,
   "metadata": {},
   "outputs": [],
   "source": [
    "import sklearn\n",
    "from sklearn.neural_network import MLPRegressor\n",
    "\n",
    "model = MLPRegressor(hidden_layer_sizes=(5,),\n",
    "                    activation='relu',\n",
    "                    solver='adam',\n",
    "                    learning_rate='adaptive',\n",
    "                    max_iter=100,\n",
    "                    learning_rate_init=0.01,\n",
    "                    alpha=0.01)\n"
   ]
  },
  {
   "cell_type": "code",
   "execution_count": null,
   "metadata": {},
   "outputs": [],
   "source": []
  }
 ],
 "metadata": {
  "kernelspec": {
   "display_name": "Python 3",
   "language": "python",
   "name": "python3"
  },
  "language_info": {
   "codemirror_mode": {
    "name": "ipython",
    "version": 3
   },
   "file_extension": ".py",
   "mimetype": "text/x-python",
   "name": "python",
   "nbconvert_exporter": "python",
   "pygments_lexer": "ipython3",
   "version": "3.6.7"
  }
 },
 "nbformat": 4,
 "nbformat_minor": 2
}
